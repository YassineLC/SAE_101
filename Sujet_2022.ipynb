{
 "cells": [
  {
   "cell_type": "markdown",
   "metadata": {
    "deletable": false,
    "editable": false,
    "run_control": {
     "frozen": true
    }
   },
   "source": [
    "# <center> Etude de communautés dans un réseau social</center>\n",
    "<center> SAE 1.01 / 2022 - 23 </center>\n",
    "\n"
   ]
  },
  {
   "cell_type": "markdown",
   "metadata": {
    "deletable": false,
    "editable": false,
    "run_control": {
     "frozen": true
    }
   },
   "source": [
    "Cette SAE est à faire en **binôme**.\n",
    "\n",
    "**Calendrier**\n",
    "- Un contrôle de 2h en lien avec le contenu de cette SAE aura lieu le mercredi **26 octobre** 2022.\n",
    "- Le projet est à rendre le vendredi **28 octobre** 2022. Les modalités de rendu vous seront précisées par votre enseignant.\n",
    "\n",
    "**Evaluation**\n",
    "- Le projet comptera pour 40% de la note de SAE 1.01. <BR>\n",
    "    Il sera particulièrement tenu compte de la qualité du code, des **commentaires** et **docstrings**, des fonctions de **tests unitaires** pour les fonctions renvoyant des résultats. <BR><BR>\n",
    "    \n",
    "- Le contrôle compte pour 60% de la note finale."
   ]
  },
  {
   "cell_type": "markdown",
   "metadata": {
    "deletable": false,
    "editable": false,
    "run_control": {
     "frozen": true
    }
   },
   "source": [
    "## <center> Sujet </center>\n",
    "\n",
    "Une *communauté* est un ensemble de personnes développant des interactions dans un réseau social.\n",
    "\n",
    "Dans ce projet, on étudie des communautés modélisées sous différentes formes. Pour cela, on développe des fonctions permettant d'extraire des informations relatives à ces réseaux. "
   ]
  },
  {
   "cell_type": "markdown",
   "metadata": {
    "deletable": false,
    "editable": false,
    "run_control": {
     "frozen": true
    }
   },
   "source": [
    "On modélise, dans un premier temps, les interactions entre personnes dans un tableau `amis` de chaînes de caractères contenant les prénoms des membres du réseau et tel que `amis[2*i]` a des interactions avec `amis[2*i+1]`.\n",
    "\n",
    "On suppose que chaque interaction n'est décrite qu'une seule fois dans le tableau, et qu'une personne n'a pas d'interaction avec elle-même.\n",
    "\n",
    "**Exemple** : "
   ]
  },
  {
   "cell_type": "code",
   "execution_count": 6,
   "metadata": {
    "deletable": false,
    "editable": false
   },
   "outputs": [],
   "source": [
    "amis = [\"Alice\", \"Bob\", \"Alice\", \"Charlie\", \"Bob\", \"Denis\"]"
   ]
  },
  {
   "cell_type": "code",
   "execution_count": 27,
   "metadata": {},
   "outputs": [
    {
     "name": "stdout",
     "output_type": "stream",
     "text": [
      "Test de la fonction nb_amis : OK\n"
     ]
    }
   ],
   "source": [
    "def nb_amis(amis, prenom):\n",
    "    \"\"\"\n",
    "    Compte le nombre d'amis de \"prénom\". La fonction parcourt les éléments du tableau 2 par 2,\n",
    "    Si un des 2 éléments parcourus est \"prénom\", alors il a une interaction avec une deuxième\n",
    "    personne, donc on incrémente au compteur.\n",
    "    \"\"\"\n",
    "    \n",
    "    i = 0\n",
    "    temp_tab = []  # Tableau temporaire qui stocke les interactions\n",
    "    nb_amis = 0   #Compteur du nombre d'amis de \"prénom\"\n",
    "\n",
    "    while i < len(amis)//2:\n",
    "        temp_tab.append(amis[2*i])\n",
    "        temp_tab.append(amis[2*i+1])\n",
    "        if temp_tab[0] == prenom or temp_tab[1] == prenom:  #Instruction qui vérifie si l'un des deux amis qui interagie est celui qui cherché\n",
    "            nb_amis+=1\n",
    "        temp_tab = []\n",
    "        i+=1\n",
    "    return(nb_amis)\n",
    "\n",
    "\n",
    "def test_nb_amis():\n",
    "    assert nb_amis([\"Alice\", \"Bob\", \"Alice\", \"Charlie\", \"Bob\", \"Denis\"], \"Alice\") == 2\n",
    "    assert nb_amis([\"Muriel\", \"Yasmine\", \"Muriel\", \"Joël\", \"Yasmine\", \"Joël\", \"Yasmine\", \"Thomas\", \"Joël\", \"Nassim\", \"Joël\", \"Andrea\",\"Joël\", \"Ali\", \"Nassim\", \"Andrea\", \"Nassim\", \"Ali\", \"Andrea\", \"Ali\", \"Thomas\", \"Daria\", \"Thomas\", \"Carole\", \"Thierry\",\"Axel\", \"Thierry\", \"Léo\", \"Axel\", \"Léo\", \"Valentin\", \"Léo\", \"Andrea\", \"Valentin\"], \"Valentin\") == 2\n",
    "    assert nb_amis(['Barbra', 'Cloe', 'Louis', 'Rufino', 'Idelle', 'Mady', 'Björn', 'Giedrius', 'Cloe', 'Glenys', 'Barbra', 'Vittorio', 'Mady', 'Rufino', 'Barbra', 'Marwa', 'Cloe', 'Louis', 'Björn', 'Faizel', 'Giedrius', 'Rufino', 'Mady', 'Vittore', 'Giedrius', 'Louis', 'Cloe', 'Placide', 'Cloe', 'Teodor', 'Kirsa', 'Vittorio', 'Idelle', 'Marwa', 'Placide', 'Rufino', 'Giedrius', 'Illtyd', 'Björn', 'Cloe', 'Björn', 'Rufino', 'Louis', 'Placide', 'Barbra', 'Rufino', 'Louis', 'Vittorio', 'Olavi', 'Placide', 'Rufino', 'Teodor', 'Louis', 'Olavi', 'Faizel', 'Rufino', 'Olavi', 'Vittorio', 'Barbra', 'Louis', 'Placide', 'Vittorio', 'Barbra', 'Kirsa', 'Illtyd', 'Rufino', 'Jakob', 'Mady', 'Barbra', 'Vittore', 'Björn', 'Idelle', 'Cloe', 'Vittore', 'Olavi', 'Teodor', 'Jakob', 'Placide', 'Cain', 'Vittorio', 'Barbra', 'Faizel', 'Giedrius', 'Mady', 'Kirsa', 'Vittore', 'Barbra', 'Mady', 'Jakob', 'Kirsa', 'Björn', 'Mady', 'Björn', 'Teodor', 'Cloe', 'Vittorio', 'Illtyd', 'Olavi', 'Olavi', 'Rufino', 'Giedrius', 'Glenys', 'Rufino', 'Vittorio', 'Björn', 'Olavi', 'Björn', 'Louis', 'Louis', 'Vittore', 'Mady', 'Teodor', 'Vittore', 'Vittorio', 'Faizel', 'Placide', 'Cloe', 'Mady', 'Cain', 'Placide', 'Mady', 'Vittorio', 'Cloe', 'Idelle', 'Mady', 'Placide', 'Giedrius', 'Vittorio', 'Faizel', 'Olavi', 'Björn', 'Vittore', 'Idelle', 'Illtyd', 'Barbra', 'Olavi'], \"Faizel\") == 5\n",
    "    print(\"Test de la fonction nb_amis : OK\")\n",
    "    \n",
    "test_nb_amis()\n",
    "    "
   ]
  },
  {
   "cell_type": "markdown",
   "metadata": {
    "deletable": false,
    "editable": false,
    "run_control": {
     "frozen": true
    }
   },
   "source": [
    "Ici, \n",
    "- Alice a des interactions Bob et Charlie, \n",
    "- Bob a des intractions avec Alice et Denis,\n",
    "- Charlie a des interactions avec Alice et\n",
    "- Denis a des interactions avec Bob."
   ]
  },
  {
   "cell_type": "markdown",
   "metadata": {
    "deletable": false,
    "editable": false,
    "run_control": {
     "frozen": true
    }
   },
   "source": [
    "#### Question préliminaire : Modélisation d'un réseau par un tableau\n",
    "\n",
    "Muriel, Yasmine et Joël sont amis. Yasmine est amie avec Thomas. \n",
    "Joël, Nassim, Andrea et Ali sont amis. Thomas est ami de Daria et Carole. Thierry, Axel et Léo sont amis. Léo est ami de Valentin qui est ami d'Andrea.\n",
    "\n",
    "- Construire un tableau `p_amis` qui modélise ce réseau d'amitié en selon le principe qui vient d'être décrit."
   ]
  },
  {
   "cell_type": "code",
   "execution_count": 8,
   "metadata": {},
   "outputs": [],
   "source": [
    "\n",
    "p_amis = [\"Muriel\", \"Yasmine\", \"Muriel\", \"Joël\", \"Yasmine\", \"Joël\", \"Yasmine\", \"Thomas\", \"Joël\", \"Nassim\", \"Joël\", \"Andrea\",\n",
    "         \"Joël\", \"Ali\", \"Nassim\", \"Andrea\", \"Nassim\", \"Ali\", \"Andrea\", \"Ali\", \"Thomas\", \"Daria\", \"Thomas\", \"Carole\", \"Thierry\",\n",
    "          \"Axel\", \"Thierry\", \"Léo\", \"Axel\", \"Léo\", \"Valentin\", \"Léo\", \"Andrea\", \"Valentin\"]\n",
    "\n"
   ]
  },
  {
   "cell_type": "markdown",
   "metadata": {
    "deletable": false,
    "editable": false,
    "run_control": {
     "frozen": true
    }
   },
   "source": [
    "#### Question 1 : Nombre d'amis d'une personne\n",
    "\n",
    "- Étant donné un tableau `amis`, écrire une fonction `nb_amis(amis, prenom)` qui retourne le nombre d'amis de `prenom` à partir des données du tableau `amis`. "
   ]
  },
  {
   "cell_type": "code",
   "execution_count": 1,
   "metadata": {},
   "outputs": [
    {
     "name": "stdout",
     "output_type": "stream",
     "text": [
      "Test de la fonction nb_amis : OK\n"
     ]
    }
   ],
   "source": [
    "\n",
    "\n",
    "\n",
    "def nb_amis(amis, prenom):\n",
    "    \"\"\"\n",
    "    Compte le nombre d'amis de \"prénom\". La fonction parcourt les éléments du tableau 2 par 2,\n",
    "    Si un des 2 éléments parcourus est \"prénom\", alors il a une interaction avec une deuxième\n",
    "    personne, donc on incrémente au compteur.\n",
    "    \"\"\"\n",
    "    \n",
    "    i = 0\n",
    "    nb_amis = 0   #Compteur du nombre d'amis de \"prénom\"\n",
    "\n",
    "    while i < len(amis)//2:\n",
    "        if amis[2*i] == prenom or amis[2*i+1] == prenom:  #Instruction qui vérifie si l'un des deux amis qui interagie est celui qui cherché\n",
    "            nb_amis+=1\n",
    "        i+=1\n",
    "    return(nb_amis)\n",
    "\n",
    "def test_nb_amis():\n",
    "    assert nb_amis([\"Muriel\", \"Yasmine\", \"Muriel\", \"Joël\", \"Yasmine\", \"Joël\", \"Yasmine\", \"Thomas\", \"Joël\", \"Nassim\", \"Joël\", \"Andrea\", \"Joël\", \"Ali\", \"Nassim\", \"Andrea\", \"Nassim\", \"Ali\", \"Andrea\", \"Ali\", \"Thomas\", \"Daria\", \"Thomas\", \"Carole\", \"Thierry\", \"Axel\", \"Thierry\", \"Léo\", \"Axel\", \"Léo\", \"Valentin\", \"Léo\", \"Andrea\", \"Valentin\"], \"Muriel\") == 2\n",
    "    assert nb_amis([\"Muriel\", \"Yasmine\", \"Muriel\", \"Joël\", \"Yasmine\", \"Joël\", \"Yasmine\", \"Thomas\", \"Joël\", \"Nassim\", \"Joël\", \"Andrea\", \"Joël\", \"Ali\", \"Nassim\", \"Andrea\", \"Nassim\", \"Ali\", \"Andrea\", \"Ali\", \"Thomas\", \"Daria\", \"Thomas\", \"Carole\", \"Thierry\", \"Axel\", \"Thierry\", \"Léo\", \"Axel\", \"Léo\", \"Valentin\", \"Léo\", \"Andrea\", \"Valentin\"], \"Joël\") == 5\n",
    "    assert not nb_amis([\"Muriel\", \"Yasmine\", \"Muriel\", \"Joël\", \"Yasmine\", \"Joël\", \"Yasmine\", \"Thomas\", \"Joël\", \"Nassim\", \"Joël\", \"Andrea\", \"Joël\", \"Ali\", \"Nassim\", \"Andrea\", \"Nassim\", \"Ali\", \"Andrea\", \"Ali\", \"Thomas\", \"Daria\", \"Thomas\", \"Carole\", \"Thierry\", \"Axel\", \"Thierry\", \"Léo\", \"Axel\", \"Léo\", \"Valentin\", \"Léo\", \"Andrea\", \"Valentin\"], \"Valentin\") == 18\n",
    "    print(\"Test de la fonction nb_amis : OK\")\n",
    "    \n",
    "test_nb_amis()\n",
    "        "
   ]
  },
  {
   "cell_type": "markdown",
   "metadata": {
    "deletable": false,
    "editable": false,
    "run_control": {
     "frozen": true
    }
   },
   "source": [
    "#### Question 2 : Nombre de membres d'un réseau social \n",
    "\n",
    "- Ecrire une fonction `taille_reseau(amis)` qui à partir d'un tableau `amis`retourne le nombre de personnes distinctes participant à ce réseau social."
   ]
  },
  {
   "cell_type": "code",
   "execution_count": 38,
   "metadata": {},
   "outputs": [
    {
     "name": "stdout",
     "output_type": "stream",
     "text": [
      "Test de la fonction taille_reseau : OK\n"
     ]
    }
   ],
   "source": [
    "\n",
    "def taille_reseau(amis):\n",
    "    \n",
    "    \n",
    "    \"\"\"\n",
    "    Compte le nombre de personnes distinctes\n",
    "    participant au réseau social.\n",
    "    \"\"\"\n",
    "    \n",
    "    \n",
    "    prenoms_comptes = []    #Liste des prénoms déjà comptés par le tableau \"amis\"\n",
    "    compteur = 0\n",
    "    i = len(amis)-1\n",
    "    \n",
    "    while i > 0:\n",
    "        if amis[i] in prenoms_comptes:  #Vérifie si le prénom rencontré a déjà été compté\n",
    "            pass\n",
    "        else:\n",
    "            compteur += 1\n",
    "            prenoms_comptes.append(amis[i])  #Prends en compte le prénom pour ne pas le recompter\n",
    "        i-=1\n",
    "    return(compteur)\n",
    "\n",
    "def test_taille_reseau():\n",
    "    assert taille_reseau([\"Muriel\", \"Yasmine\", \"Muriel\", \"Joël\", \"Yasmine\", \"Joël\", \"Yasmine\", \"Thomas\", \"Joël\", \"Nassim\", \"Joël\", \"Andrea\", \"Joël\", \"Ali\", \"Nassim\", \"Andrea\", \"Nassim\", \"Ali\", \"Andrea\", \"Ali\", \"Thomas\", \"Daria\", \"Thomas\", \"Carole\", \"Thierry\", \"Axel\", \"Thierry\", \"Léo\", \"Axel\", \"Léo\", \"Valentin\", \"Léo\", \"Andrea\", \"Valentin\"]) == 13\n",
    "    assert taille_reseau([\"Alice\", \"Bob\", \"Alice\", \"Charlie\", \"Bob\", \"Denis\"]) == 4\n",
    "    assert not taille_reseau([\"Alice\", \"Bob\", \"Alice\", \"Charlie\", \"Bob\", \"Denis\"]) == 10\n",
    "    print(\"Test de la fonction taille_reseau : OK\")\n",
    "    \n",
    "\n",
    "test_taille_reseau()"
   ]
  },
  {
   "cell_type": "markdown",
   "metadata": {
    "deletable": false,
    "editable": false,
    "run_control": {
     "frozen": true
    }
   },
   "source": [
    "#### Question 3 :  Lecture des données d'un réseau à partir d'un fichier\n",
    "On suppose que les données sur un réseau social sont stockées dans un fichier CSV de la manière suivante :\n",
    "```\n",
    "prenom1;prenom2\n",
    "prenom3;prenom4\n",
    "prenom5;prenom6\n",
    "...\n",
    "```\n",
    "Autrement dit, chaque ligne du fichier contient une paire de prénoms séparés par un `';'` correspondant à deux personnes ayant des interactions. \n",
    "\n",
    "**NB** : Quatre fichiers CSV de ce type sont fournis dans le répertoire `files/`, il s'agit des fichiers`Communaute1.csv`, `Communaute2.csv`,`Communaute3.csv` et `Communaute4.csv`. \n",
    "Il est recommandé d'en fabriquer d'autres. \n",
    "\n",
    "- Ecrire une fonction `lecture_reseau(path)` prenant en paramètre un chemin vers un tel fichier CSV et retournant un tableau modélisant les interactions entre les personnes du fichier."
   ]
  },
  {
   "cell_type": "code",
   "execution_count": 15,
   "metadata": {
    "pycharm": {
     "is_executing": true
    }
   },
   "outputs": [
    {
     "name": "stdout",
     "output_type": "stream",
     "text": [
      "Test de la fonction lecture_reseau : OK\n"
     ]
    }
   ],
   "source": [
    "\n",
    "def lecture_reseau(path):\n",
    "    \n",
    "    \"\"\"\n",
    "    Lis le fichier CSV contenant les interactions et écrit dans le tableau ces interaction\n",
    "    \"\"\"\n",
    "    \n",
    "    file = open(path, \"r\", encoding=\"utf-8\")\n",
    "    index = 0\n",
    "    tab = []\n",
    "    \n",
    "    while index != \"\":\n",
    "        index = file.readline()  #Contient les lignes une par une\n",
    "        index = index.strip()  #Retire les \\n liés au retour à la ligne du fichier csv\n",
    "        index = index.split(\";\")  #Sépare les deux prénoms en deux éléments distincts \n",
    "        if len(index) != 2:  #Arrete le programme lorsqu\"index ne contient plus d'interaction\n",
    "            return(tab)\n",
    "        for i in range(len(index)):\n",
    "            tab.append(index[i])\n",
    "            \n",
    "\n",
    "\n",
    "def test_lecture_reseau():\n",
    "    assert lecture_reseau(\"newfiles/Communaute1.csv\") == ['Barbra', 'Cloe', 'Louis', 'Rufino', 'Idelle', 'Mady', 'Björn', 'Giedrius', 'Cloe', 'Glenys', 'Barbra', 'Vittorio', 'Mady', 'Rufino', 'Barbra', 'Marwa', 'Cloe', 'Louis', 'Björn', 'Faizel', 'Giedrius', 'Rufino', 'Mady', 'Vittore', 'Giedrius', 'Louis', 'Cloe', 'Placide', 'Cloe', 'Teodor', 'Kirsa', 'Vittorio', 'Idelle', 'Marwa', 'Placide', 'Rufino', 'Giedrius', 'Illtyd', 'Björn', 'Cloe', 'Björn', 'Rufino', 'Louis', 'Placide', 'Barbra', 'Rufino', 'Louis', 'Vittorio', 'Olavi', 'Placide', 'Rufino', 'Teodor', 'Louis', 'Olavi', 'Faizel', 'Rufino', 'Olavi', 'Vittorio', 'Barbra', 'Louis', 'Placide', 'Vittorio', 'Barbra', 'Kirsa', 'Illtyd', 'Rufino', 'Jakob', 'Mady', 'Barbra', 'Vittore', 'Björn', 'Idelle', 'Cloe', 'Vittore', 'Olavi', 'Teodor', 'Jakob', 'Placide', 'Cain', 'Vittorio', 'Barbra', 'Faizel', 'Giedrius', 'Mady', 'Kirsa', 'Vittore', 'Barbra', 'Mady', 'Jakob', 'Kirsa', 'Björn', 'Mady', 'Björn', 'Teodor', 'Cloe', 'Vittorio', 'Illtyd', 'Olavi', 'Olavi', 'Rufino', 'Giedrius', 'Glenys', 'Rufino', 'Vittorio', 'Björn', 'Olavi', 'Björn', 'Louis', 'Louis', 'Vittore', 'Mady', 'Teodor', 'Vittore', 'Vittorio', 'Faizel', 'Placide', 'Cloe', 'Mady', 'Cain', 'Placide', 'Mady', 'Vittorio', 'Cloe', 'Idelle', 'Mady', 'Placide', 'Giedrius', 'Vittorio', 'Faizel', 'Olavi', 'Björn', 'Vittore', 'Idelle', 'Illtyd', 'Barbra', 'Olavi']\n",
    "    assert len(lecture_reseau(\"newfiles/Communaute2.csv\")) == 1046\n",
    "    assert len(lecture_reseau(\"newfiles/Communaute4.csv\")) > 130000\n",
    "    print(\"Test de la fonction lecture_reseau : OK\")\n",
    "    \n",
    "test_lecture_reseau()"
   ]
  },
  {
   "cell_type": "markdown",
   "metadata": {
    "deletable": false,
    "editable": false,
    "run_control": {
     "frozen": true
    }
   },
   "source": [
    "#### Question 4 : Modélisation d'un réseau par un dictionnaire\n",
    "On préfère pour la suite, utiliser une modélisation du réseau social par un dictionnaire dont où les clés sont les prénoms des personnes du réseau et la valeur associé à une clé est le tableau des amis de la personne indiquée par la clé.\n",
    "\n",
    "- A partir d'un tableau `amis` modélisant les interactions entre personnes d'un réseau, écrire une fonction `dico_reseau(amis)` qui retourne un dictionnaire dont les clés sont les prénoms des membres du réseau et les valeurs le tableau de leurs amis."
   ]
  },
  {
   "cell_type": "code",
   "execution_count": 34,
   "metadata": {},
   "outputs": [
    {
     "name": "stdout",
     "output_type": "stream",
     "text": [
      "Test de la fonction dico_reseau : OK\n"
     ]
    }
   ],
   "source": [
    "amis = [\"Muriel\", \"Yasmine\", \"Muriel\", \"Joël\", \"Yasmine\", \"Joël\", \"Yasmine\", \"Thomas\", \"Joël\", \"Nassim\", \"Joël\", \"Andrea\", \"Joël\", \"Ali\", \"Nassim\", \"Andrea\", \"Nassim\", \"Ali\", \"Andrea\", \"Ali\", \"Thomas\", \"Daria\", \"Thomas\", \"Carole\", \"Thierry\", \"Axel\", \"Thierry\", \"Léo\", \"Axel\", \"Léo\", \"Valentin\", \"Léo\", \"Andrea\", \"Valentin\"]\n",
    "amis2 = ['Giedrius','Mady','Kirsa','Vittore','Barbra','Faizel','Vittorio','Vittore','Louis','Placide','Vittorio','Barbra','Cloe','Björn','Vittore','Barbra','Mady','Rufino','Cloe','Vittorio','Vittorio','Placide','Olavi','Rufino','Vittore','Cloe','Teodor','Cloe','Louis','Cloe','Idelle','Mady','Illtyd','Giedrius','Teodor','Olavi','Vittore','Mady','Rufino','Giedrius','Placide','Louis','Louis','Vittorio','Giedrius','Glenys','Björn','Olavi','Faizel','Placide','Rufino','Illtyd','Placide','Louis','Kirsa','Vittorio','Mady','Placide','Illtyd','Olavi','Vittorio','Placide','Cloe','Mady','Rufino','Vittorio','Placide','Rufino','Rufino','Vittorio','Giedrius','Illtyd','Rufino','Teodor','Olavi','Rufino','Placide','Jakob','Cloe','Björn','Barbra','Kirsa','Idelle','Cloe','Rufino','Illtyd','Rufino','Faizel','Rufino','Louis','Björn','Cloe','Vittorio','Olavi','Vittorio','Mady','Glenys','Cloe','Björn','Idelle','Mady','Björn','Barbra','Vittorio','Louis','Björn','Mady','Vittorio','Illtyd','Olavi','Olavi','Barbra','Björn','Giedrius','Mady','Placide','Faizel','Barbra','Marwa','Idelle','Placide','Olavi','Olavi','Placide','Cain','Vittorio','Louis','Placide','Jakob','Kirsa','Barbra','Marwa','Vittorio','Louis','Idelle','Illtyd','Louis','Giedrius','Olavi','Barbra','Mady','Barbra','Barbra','Rufino','Cloe','Barbra','Louis','Björn','Cloe','Björn','Mady','Barbra','Rufino','Björn','Kirsa','Vittore','Björn','Faizel','Jakob','Kirsa','Cloe','Vittore','Vittore','Björn','Björn','Teodor','Barbra','Rufino','Louis','Rufino','Vittorio','Mady','Olavi','Teodor','Teodor','Mady','Faizel','Olavi','Björn','Cloe','Cloe','Idelle','Barbra','Louis','Barbra','Vittore','Giedrius','Vittorio','Placide','Cain','Vittore','Louis','Mady','Jakob','Barbra','Vittore','Björn','Mady','Placide','Rufino','Placide','Cloe','Vittorio','Barbra','Illtyd','Rufino','Vittore','Louis','Olavi','Louis']\n",
    "amis3 = ['Barbra', 'Cloe', 'Louis', 'Rufino', 'Idelle', 'Mady', 'Björn', 'Giedrius', 'Cloe', 'Glenys', 'Barbra', 'Vittorio', 'Mady', 'Rufino', 'Barbra', 'Marwa', 'Cloe', 'Louis', 'Björn', 'Faizel', 'Giedrius', 'Rufino', 'Mady', 'Vittore', 'Giedrius', 'Louis', 'Cloe', 'Placide', 'Cloe', 'Teodor', 'Kirsa', 'Vittorio', 'Idelle', 'Marwa', 'Placide', 'Rufino', 'Giedrius', 'Illtyd', 'Björn', 'Cloe', 'Björn', 'Rufino', 'Louis', 'Placide', 'Barbra', 'Rufino', 'Louis', 'Vittorio', 'Olavi', 'Placide', 'Rufino', 'Teodor', 'Louis', 'Olavi', 'Faizel', 'Rufino', 'Olavi', 'Vittorio', 'Barbra', 'Louis', 'Placide', 'Vittorio', 'Barbra', 'Kirsa', 'Illtyd', 'Rufino', 'Jakob', 'Mady', 'Barbra', 'Vittore', 'Björn', 'Idelle', 'Cloe', 'Vittore', 'Olavi', 'Teodor', 'Jakob', 'Placide', 'Cain', 'Vittorio', 'Barbra', 'Faizel', 'Giedrius', 'Mady', 'Kirsa', 'Vittore', 'Barbra', 'Mady', 'Jakob', 'Kirsa', 'Björn', 'Mady', 'Björn', 'Teodor', 'Cloe', 'Vittorio', 'Illtyd', 'Olavi', 'Olavi', 'Rufino', 'Giedrius', 'Glenys', 'Rufino', 'Vittorio', 'Björn', 'Olavi', 'Björn', 'Louis', 'Louis', 'Vittore', 'Mady', 'Teodor', 'Vittore', 'Vittorio', 'Faizel', 'Placide', 'Cloe', 'Mady', 'Cain', 'Placide', 'Mady', 'Vittorio', 'Cloe', 'Idelle', 'Mady', 'Placide', 'Giedrius', 'Vittorio', 'Faizel', 'Olavi', 'Björn', 'Vittore', 'Idelle', 'Illtyd', 'Barbra', 'Olavi']\n",
    "\n",
    "def dico_reseau(amis):\n",
    "    \n",
    "    \"\"\"\n",
    "    A partir d'un tableau amis, cette fonction retourne un dictionnaire qui,\n",
    "    à chaque clé, étant un prénom, associe tous les prénoms des personnes\n",
    "    ayant eu une interaction avec la clé.\n",
    "    \"\"\"\n",
    "    \n",
    "    dico = {}\n",
    "    i = 0\n",
    "    temp = []  #Liste temporairement les prénoms des personnes qui ont une interaction avec le prénom amis[i]\n",
    "    nom_deja_vu = []  #Liste les prénoms déjà traités pour ne pas avoir d'erreur\n",
    "    \n",
    "    while i < len(amis):\n",
    "        if amis[i] not in nom_deja_vu:\n",
    "            for j in range(len(amis)): #Parcours les prénoms pour trouver où apparait le prénom tab[i], pour trouver ses interactions\n",
    "                if amis[j] == amis[i]:\n",
    "                    if j%2==0:  #Ce test permet de déterminer laquelle des deux personnes qui interagissent est celle recherchée\n",
    "                        temp.append(amis[j+1])\n",
    "                    else:\n",
    "                        temp.append(amis[j-1])\n",
    "                dico[amis[i]] = temp\n",
    "                nom_deja_vu.append(amis[i])\n",
    "            temp = []\n",
    "        i+=1\n",
    "    return(dico)\n",
    "\n",
    "\n",
    "def test_dico_reseau():\n",
    "    assert dico_reseau(amis) == {'Muriel': ['Yasmine', 'Joël'], 'Yasmine': ['Muriel', 'Joël', 'Thomas'], 'Joël': ['Muriel', 'Yasmine', 'Nassim', 'Andrea', 'Ali'], 'Thomas': ['Yasmine', 'Daria', 'Carole'], 'Nassim': ['Joël', 'Andrea', 'Ali'], 'Andrea': ['Joël', 'Nassim', 'Ali', 'Valentin'], 'Ali': ['Joël', 'Nassim', 'Andrea'], 'Daria': ['Thomas'], 'Carole': ['Thomas'], 'Thierry': ['Axel', 'Léo'], 'Axel': ['Thierry', 'Léo'], 'Léo': ['Thierry', 'Axel', 'Valentin'], 'Valentin': ['Léo', 'Andrea']}\n",
    "    assert dico_reseau(amis2) == {'Giedrius': ['Mady', 'Illtyd', 'Rufino', 'Glenys', 'Illtyd', 'Björn', 'Louis', 'Vittorio'], 'Mady': ['Giedrius', 'Rufino', 'Idelle', 'Vittore', 'Placide', 'Cloe', 'Vittorio', 'Björn', 'Vittorio', 'Placide', 'Barbra', 'Barbra', 'Vittorio', 'Teodor', 'Jakob', 'Björn'], 'Kirsa': ['Vittore', 'Vittorio', 'Barbra', 'Jakob', 'Vittore', 'Jakob'], 'Vittore': ['Kirsa', 'Vittorio', 'Barbra', 'Cloe', 'Mady', 'Kirsa', 'Cloe', 'Björn', 'Barbra', 'Louis', 'Barbra', 'Louis'], 'Barbra': ['Faizel', 'Vittorio', 'Vittore', 'Kirsa', 'Vittorio', 'Olavi', 'Faizel', 'Marwa', 'Olavi', 'Mady', 'Rufino', 'Cloe', 'Mady', 'Rufino', 'Louis', 'Vittore', 'Vittore', 'Vittorio'], 'Faizel': ['Barbra', 'Placide', 'Rufino', 'Barbra', 'Björn', 'Olavi'], 'Vittorio': ['Vittore', 'Barbra', 'Cloe', 'Placide', 'Louis', 'Kirsa', 'Placide', 'Rufino', 'Rufino', 'Olavi', 'Mady', 'Barbra', 'Mady', 'Cain', 'Louis', 'Mady', 'Giedrius', 'Barbra'], 'Louis': ['Placide', 'Cloe', 'Placide', 'Vittorio', 'Placide', 'Rufino', 'Björn', 'Placide', 'Vittorio', 'Giedrius', 'Björn', 'Rufino', 'Barbra', 'Vittore', 'Vittore', 'Olavi'], 'Placide': ['Louis', 'Vittorio', 'Louis', 'Faizel', 'Louis', 'Mady', 'Vittorio', 'Rufino', 'Jakob', 'Mady', 'Olavi', 'Olavi', 'Louis', 'Cain', 'Rufino', 'Cloe'], 'Cloe': ['Björn', 'Vittorio', 'Vittore', 'Teodor', 'Louis', 'Mady', 'Björn', 'Idelle', 'Björn', 'Glenys', 'Barbra', 'Björn', 'Vittore', 'Björn', 'Idelle', 'Placide'], 'Björn': ['Cloe', 'Olavi', 'Cloe', 'Cloe', 'Idelle', 'Mady', 'Louis', 'Giedrius', 'Louis', 'Cloe', 'Rufino', 'Faizel', 'Vittore', 'Teodor', 'Cloe', 'Mady'], 'Rufino': ['Mady', 'Olavi', 'Giedrius', 'Illtyd', 'Vittorio', 'Placide', 'Vittorio', 'Teodor', 'Olavi', 'Illtyd', 'Faizel', 'Louis', 'Barbra', 'Björn', 'Barbra', 'Louis', 'Placide', 'Illtyd'], 'Olavi': ['Rufino', 'Teodor', 'Björn', 'Illtyd', 'Rufino', 'Vittorio', 'Illtyd', 'Barbra', 'Placide', 'Placide', 'Barbra', 'Teodor', 'Faizel', 'Louis'], 'Teodor': ['Cloe', 'Olavi', 'Rufino', 'Björn', 'Olavi', 'Mady'], 'Idelle': ['Mady', 'Cloe', 'Björn', 'Marwa', 'Illtyd', 'Cloe'], 'Illtyd': ['Giedrius', 'Rufino', 'Olavi', 'Giedrius', 'Rufino', 'Olavi', 'Idelle', 'Rufino'], 'Glenys': ['Giedrius', 'Cloe'], 'Jakob': ['Placide', 'Kirsa', 'Kirsa', 'Mady'], 'Marwa': ['Idelle', 'Barbra'], 'Cain': ['Vittorio', 'Placide']}\n",
    "    assert dico_reseau(amis3) == {'Barbra': ['Cloe', 'Vittorio', 'Marwa', 'Rufino', 'Louis', 'Kirsa', 'Vittore', 'Faizel', 'Mady', 'Olavi'], 'Cloe': ['Barbra', 'Glenys', 'Louis', 'Placide', 'Teodor', 'Björn', 'Vittore', 'Vittorio', 'Mady', 'Idelle'], 'Louis': ['Rufino', 'Cloe', 'Giedrius', 'Placide', 'Vittorio', 'Olavi', 'Barbra', 'Björn', 'Vittore'], 'Rufino': ['Louis', 'Mady', 'Giedrius', 'Placide', 'Björn', 'Barbra', 'Teodor', 'Faizel', 'Illtyd', 'Olavi', 'Vittorio'], 'Idelle': ['Mady', 'Marwa', 'Björn', 'Cloe', 'Illtyd'], 'Mady': ['Idelle', 'Rufino', 'Vittore', 'Jakob', 'Giedrius', 'Barbra', 'Björn', 'Teodor', 'Cloe', 'Vittorio', 'Placide'], 'Björn': ['Giedrius', 'Faizel', 'Cloe', 'Rufino', 'Idelle', 'Mady', 'Teodor', 'Olavi', 'Louis', 'Vittore'], 'Giedrius': ['Björn', 'Rufino', 'Louis', 'Illtyd', 'Mady', 'Glenys', 'Vittorio'], 'Glenys': ['Cloe', 'Giedrius'], 'Vittorio': ['Barbra', 'Kirsa', 'Louis', 'Olavi', 'Placide', 'Cain', 'Cloe', 'Rufino', 'Vittore', 'Mady', 'Giedrius'], 'Marwa': ['Barbra', 'Idelle'], 'Faizel': ['Björn', 'Rufino', 'Barbra', 'Placide', 'Olavi'], 'Vittore': ['Mady', 'Barbra', 'Cloe', 'Kirsa', 'Louis', 'Vittorio', 'Björn'], 'Placide': ['Cloe', 'Rufino', 'Louis', 'Olavi', 'Vittorio', 'Jakob', 'Faizel', 'Cain', 'Mady'], 'Teodor': ['Cloe', 'Rufino', 'Olavi', 'Björn', 'Mady'], 'Kirsa': ['Vittorio', 'Barbra', 'Vittore', 'Jakob'], 'Illtyd': ['Giedrius', 'Rufino', 'Olavi', 'Idelle'], 'Olavi': ['Placide', 'Louis', 'Vittorio', 'Teodor', 'Illtyd', 'Rufino', 'Björn', 'Faizel', 'Barbra'], 'Jakob': ['Mady', 'Placide', 'Kirsa'], 'Cain': ['Vittorio', 'Placide']}\n",
    "    assert not len(dico_reseau(amis3)) == {'Barbra': ['Cloe', 'Vittorio', 'Marwa', 'Rufino', 'Louis', 'Kirsa', 'Vittore', 'Faizel', 'Mady', 'Olavi'], 'Cloe': ['Barbra', 'Glenys', 'Louis', 'Placide', 'Teodor', 'Björn', 'Vittore', 'Vittorio', 'Mady', 'Idelle'], 'Louis': ['Rufino', 'Cloe', 'Giedrius', 'Placide', 'Vittorio', 'Olavi', 'Barbra', 'Björn', 'Vittore'], 'Rufino': ['Louis', 'Mady', 'Giedrius', 'Placide', 'Björn', 'Barbra', 'Teodor', 'Faizel', 'Illtyd', 'Olavi', 'Vittorio'], 'Idelle': ['Mady', 'Marwa', 'Björn', 'Cloe', 'Illtyd'], 'Mady': ['Idelle', 'Rufino', 'Vittore', 'Jakob', 'Giedrius', 'Barbra', 'Björn', 'Teodor', 'Cloe', 'Vittorio', 'Placide'], 'Björn': ['Giedrius', 'Faizel', 'Cloe', 'Rufino', 'Idelle', 'Mady', 'Teodor', 'Olavi', 'Louis', 'Vittore'], 'Giedrius': ['Björn', 'Rufino', 'Louis', 'Illtyd', 'Mady', 'Glenys', 'Vittorio'], 'Glenys': ['Cloe', 'Giedrius'], 'Vittorio': ['Barbra', 'Kirsa', 'Louis', 'Olavi', 'Placide', 'Cain', 'Cloe', 'Rufino', 'Vittore', 'Mady', 'Giedrius'], 'Marwa': ['Barbra', 'Idelle'], 'Faizel': ['Björn', 'Rufino', 'Barbra', 'Placide', 'Olavi'], 'Vittore': ['Mady', 'Barbra', 'Cloe', 'Kirsa', 'Louis', 'Vittorio', 'Björn'], 'Placide': ['Cloe', 'Rufino', 'Louis', 'Olavi', 'Vittorio', 'Jakob', 'Faizel', 'Cain', 'Mady'], 'Teodor': ['Cloe', 'Rufino', 'Olavi', 'Björn', 'Mady'], 'Kirsa': ['Vittorio', 'Barbra', 'Vittore', 'Jakob'], 'Illtyd': ['Giedrius', 'Rufino', 'Olavi', 'Idelle'], 'Olavi': ['Placide', 'Louis', 'Vittorio', 'Teodor', 'Illtyd', 'Rufino', 'Björn', 'Faizel', 'Barbra'], 'Jakob': ['Mady', 'Placide', 'Kirsa'], 'Cain': ['Vittorio', 'Placide']} == 65\n",
    "    print(\"Test de la fonction dico_reseau : OK\")\n",
    "    \n",
    "test_dico_reseau()"
   ]
  },
  {
   "cell_type": "markdown",
   "metadata": {
    "deletable": false,
    "editable": false,
    "run_control": {
     "frozen": true
    }
   },
   "source": [
    "#### Question 5 : Nombre d'amis des personnes les plus populaires\n",
    "\n",
    "- A partir d'un dictionnaire `dico_reseau` modélisant les interactions dans un réseau d'amis, écrire une fonction `nb_amis_plus_pop (dico_reseau)` qui retourne le nombre d'amis des personnes les plus populaires du réseau."
   ]
  },
  {
   "cell_type": "code",
   "execution_count": 5,
   "metadata": {},
   "outputs": [
    {
     "name": "stdout",
     "output_type": "stream",
     "text": [
      "Test de la fonction nb_amis_plus_pop : OK\n"
     ]
    }
   ],
   "source": [
    "dico_reseau = {'Muriel': ['Yasmine', 'Joël'],\n",
    " 'Yasmine': ['Muriel', 'Joël', 'Thomas'],\n",
    " 'Joël': ['Muriel', 'Yasmine', 'Nassim', 'Andrea', 'Ali'],\n",
    " 'Thomas': ['Yasmine', 'Daria', 'Carole'],\n",
    " 'Nassim': ['Joël', 'Andrea', 'Ali'],\n",
    " 'Andrea': ['Joël', 'Nassim', 'Ali', 'Valentin'],\n",
    " 'Ali': ['Joël', 'Nassim', 'Andrea'],\n",
    " 'Daria': ['Thomas'],\n",
    " 'Carole': ['Thomas'],\n",
    " 'Thierry': ['Axel', 'Léo'],\n",
    " 'Axel': ['Thierry', 'Léo'],\n",
    " 'Léo': ['Thierry', 'Axel', 'Valentin'],\n",
    " 'Valentin': ['Léo', 'Andrea']}\n",
    "\n",
    "\n",
    "def nb_amis_plus_pop(dico_reseau):\n",
    "    \n",
    "    \"\"\"\n",
    "    Cette fonction retourne le nombre d'amis de la/les personne(s) la/les plus populaire(s) du réseau.\n",
    "    \"\"\"\n",
    "    \n",
    "    i = 0\n",
    "    liste_inter = list(dico_reseau.values())   #Donne la liste de toutes les interactions de tous les utilisateurs du réseau\n",
    "    nb_amis_max = 0  #Stocke le nombre d'amis des personnes les plus populaires\n",
    "    \n",
    "    while i < len(liste_inter):\n",
    "        if len(liste_inter[i]) > nb_amis_max:\n",
    "            nb_amis_max = len(liste_inter[i])\n",
    "        i+=1\n",
    "    return(nb_amis_max)\n",
    "\n",
    "\n",
    "def test_nb_amis_plus_pop():\n",
    "    assert nb_amis_plus_pop(dico_reseau) == 5\n",
    "    assert nb_amis_plus_pop({'Alice': ['Bob', 'Charlie'], 'Bob': ['Alice', 'Denis'], 'Charlie': ['Alice'], 'Denis': ['Bob']}) == 2\n",
    "    assert not nb_amis_plus_pop(dico_reseau) == 6\n",
    "    print(\"Test de la fonction nb_amis_plus_pop : OK\")\n",
    "    \n",
    "test_nb_amis_plus_pop()\n",
    "\n",
    "\n"
   ]
  },
  {
   "cell_type": "markdown",
   "metadata": {
    "deletable": false,
    "editable": false,
    "run_control": {
     "frozen": true
    }
   },
   "source": [
    "#### Question 6 : Personnes les plus populaires\n",
    "\n",
    "- A partir d'un dictionnaire `dico_reseau` modélisant les interactions dans un réseau d'amis, écrire une fonction `les_plus_pop (dico_reseau)` qui retourne un tableau contenant les prénoms de toutes les personnes les plus populaires du réseau."
   ]
  },
  {
   "cell_type": "code",
   "execution_count": 6,
   "metadata": {},
   "outputs": [
    {
     "name": "stdout",
     "output_type": "stream",
     "text": [
      "Test de la fonction les_plus_pop : OK\n"
     ]
    }
   ],
   "source": [
    "dico_reseau = {'Muriel': ['Yasmine', 'Joël'], 'Yasmine': ['Muriel', 'Joël', 'Thomas'], 'Joël': ['Muriel', 'Yasmine', 'Nassim', 'Andrea', 'Ali'], 'Thomas': ['Yasmine', 'Daria', 'Carole'],'Nassim': ['Joël', 'Andrea', 'Ali'],'Andrea': ['Joël', 'Nassim', 'Ali', 'Valentin'],'Ali': ['Joël', 'Nassim', 'Andrea'],'Daria': ['Thomas'],'Carole': ['Thomas'],'Thierry': ['Axel', 'Léo'],'Axel': ['Thierry', 'Léo'],'Léo': ['Thierry', 'Axel', 'Valentin'],'Valentin': ['Léo', 'Andrea']}\n",
    "dico_reseau2 = {'Giedrius':['Mady','Illtyd','Rufino','Glenys','Illtyd','Björn','Louis','Vittorio'],'Mady':['Giedrius','Rufino','Idelle','Vittore','Placide','Cloe','Vittorio','Björn','Vittorio','Placide','Barbra','Barbra','Vittorio','Teodor','Jakob','Björn'],'Kirsa':['Vittore','Vittorio','Barbra','Jakob','Vittore','Jakob'],'Vittore':['Kirsa','Vittorio','Barbra','Cloe','Mady','Kirsa','Cloe','Björn','Barbra','Louis','Barbra','Louis'],'Barbra':['Faizel','Vittorio','Vittore','Kirsa','Vittorio','Olavi','Faizel','Marwa','Olavi','Mady','Rufino','Cloe','Mady','Rufino','Louis','Vittore','Vittore','Vittorio'],'Faizel':['Barbra','Placide','Rufino','Barbra','Björn','Olavi'],'Vittorio':['Vittore','Barbra','Cloe','Placide','Louis','Kirsa','Placide','Rufino','Rufino','Olavi','Mady','Barbra','Mady','Cain','Louis','Mady','Giedrius','Barbra'],'Louis':['Placide','Cloe','Placide','Vittorio','Placide','Rufino','Björn','Placide','Vittorio','Giedrius','Björn','Rufino','Barbra','Vittore','Vittore','Olavi'],'Placide':['Louis','Vittorio','Louis','Faizel','Louis','Mady','Vittorio','Rufino','Jakob','Mady','Olavi','Olavi','Louis','Cain','Rufino','Cloe'],'Cloe':['Björn','Vittorio','Vittore','Teodor','Louis','Mady','Björn','Idelle','Björn','Glenys','Barbra','Björn','Vittore','Björn','Idelle','Placide'],'Björn':['Cloe','Olavi','Cloe','Cloe','Idelle','Mady','Louis','Giedrius','Louis','Cloe','Rufino','Faizel','Vittore','Teodor','Cloe','Mady'],'Rufino':['Mady','Olavi','Giedrius','Illtyd','Vittorio','Placide','Vittorio','Teodor','Olavi','Illtyd','Faizel','Louis','Barbra','Björn','Barbra','Louis','Placide','Illtyd'],'Olavi':['Rufino','Teodor','Björn','Illtyd','Rufino','Vittorio','Illtyd','Barbra','Placide','Placide','Barbra','Teodor','Faizel','Louis'],'Teodor':['Cloe','Olavi','Rufino','Björn','Olavi','Mady'],'Idelle':['Mady','Cloe','Björn','Marwa','Illtyd','Cloe'],'Illtyd':['Giedrius','Rufino','Olavi','Giedrius','Rufino','Olavi','Idelle','Rufino'],'Glenys':['Giedrius','Cloe'],'Jakob':['Placide','Kirsa','Kirsa','Mady'],'Marwa':['Idelle','Barbra'],'Cain':['Vittorio','Placide']}\n",
    "\n",
    "\n",
    "def les_plus_pop(dico_reseau):\n",
    "    \n",
    "    \n",
    "    \"\"\"\n",
    "    Cette fonction retourne le/les prénom(s) de la/les personne(s) la/les plus populaire(s) du réseau.\n",
    "    Ex : Si le nombre max d'amis du réseau est 7 et que 3 personnes ont 7 amis, cette fonction retournera\n",
    "    les prénoms des 3 personnes ayant 7 amis.\n",
    "    \"\"\"\n",
    "      \n",
    "    i = 0\n",
    "    nb_amis_max = nb_amis_plus_pop(dico_reseau)  #Cette variable stocke le nombre d'amis de la/les personne(s) la/les plus populaire(s)\n",
    "    liste_inter = list(dico_reseau.values())   #Donne la liste de toutes les interactions de tous les utilisateurs du réseau\n",
    "    liste_prenoms = list(dico_reseau.keys())   #Donne la liste de tous les prénoms des utilisateurs du réseau\n",
    "    liste_prenom_plus_pop = []   #Stocke le ou les prénoms des personnes les plus populaires du réseau\n",
    "     \n",
    "    while i < len(liste_inter):\n",
    "        if len(liste_inter[i]) == nb_amis_max:  #Ce test d'égalité test si le nombre d'amis de la personne que l'on parcourt correspond au nombre d'amis max du réseau\n",
    "            liste_prenom_plus_pop.append(liste_prenoms[i])\n",
    "        i+=1\n",
    "    return(liste_prenom_plus_pop)\n",
    "\n",
    "\n",
    "def test_les_plus_pop():\n",
    "    assert les_plus_pop(dico_reseau) == ['Joël']\n",
    "    assert les_plus_pop(dico_reseau2) == ['Barbra', 'Vittorio', 'Rufino']\n",
    "    assert les_plus_pop({'Alice': ['Bob', 'Charlie'], 'Bob': ['Alice', 'Denis'], 'Charlie': ['Alice'], 'Denis': ['Bob']}) == ['Alice', 'Bob']\n",
    "    assert not les_plus_pop(dico_reseau) == ['Léo', 'Valentin']\n",
    "    print(\"Test de la fonction les_plus_pop : OK\")\n",
    "    \n",
    "test_les_plus_pop()"
   ]
  }
 ],
 "metadata": {
  "kernelspec": {
   "display_name": "Python 3 (ipykernel)",
   "language": "python",
   "name": "python3"
  },
  "language_info": {
   "codemirror_mode": {
    "name": "ipython",
    "version": 3
   },
   "file_extension": ".py",
   "mimetype": "text/x-python",
   "name": "python",
   "nbconvert_exporter": "python",
   "pygments_lexer": "ipython3",
   "version": "3.9.12"
  },
  "latex_envs": {
   "LaTeX_envs_menu_present": true,
   "autoclose": false,
   "autocomplete": true,
   "bibliofile": "biblio.bib",
   "cite_by": "apalike",
   "current_citInitial": 1,
   "eqLabelWithNumbers": true,
   "eqNumInitial": 1,
   "hotkeys": {
    "equation": "Ctrl-E",
    "itemize": "Ctrl-I"
   },
   "labels_anchors": false,
   "latex_user_defs": false,
   "report_style_numbering": false,
   "user_envs_cfg": false
  },
  "vscode": {
   "interpreter": {
    "hash": "26de051ba29f2982a8de78e945f0abaf191376122a1563185a90213a26c5da77"
   }
  }
 },
 "nbformat": 4,
 "nbformat_minor": 2
}
